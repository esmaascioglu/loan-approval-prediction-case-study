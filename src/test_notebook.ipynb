{
 "cells": [
  {
   "cell_type": "code",
   "execution_count": 1,
   "metadata": {},
   "outputs": [],
   "source": [
    "import pandas as pd\n",
    "import warnings\n",
    "import numpy as np\n",
    "import matplotlib.pyplot as plt\n",
    "\n",
    "from datetime import datetime\n",
    "from utils.lightgbm_model import LightGBMModel, ModelManager\n",
    "from utils.data_loader import DataLoader\n",
    "from utils.preprocessing import DataPreprocessor\n",
    "from config import Settings\n",
    "\n",
    "warnings.filterwarnings(\"ignore\")\n",
    "pd.options.display.max_columns = 100\n"
   ]
  },
  {
   "cell_type": "code",
   "execution_count": 2,
   "metadata": {},
   "outputs": [
    {
     "name": "stderr",
     "output_type": "stream",
     "text": [
      "2024-08-04 20:25:40,766 - INFO - Loading data from file: ../data/loan_approval_dataset_updated.csv\n",
      "2024-08-04 20:25:40,787 - INFO - Data loaded successfully\n",
      "2024-08-04 20:25:40,788 - INFO - Dataset shape: (4269, 14)\n",
      "2024-08-04 20:25:40,794 - INFO - Data Overview:\n",
      "| loan_id   | no_of_dependents   | City   | education    | self_employed   | income_annum   | loan_amount   | loan_term   | cibil_score   | residential_assets_value   | commercial_assets_value   | luxury_assets_value   | bank_asset_value   | loan_status   |\n",
      "|:----------|:-------------------|:-------|:-------------|:----------------|:---------------|:--------------|:------------|:--------------|:---------------------------|:--------------------------|:----------------------|:-------------------|:--------------|\n",
      "| 1         | 2                  | Ankara | Graduate     | No              | 9600000        | 29900000      | 12          | 778           | 2.4e+06                    | 17600000                  | 22700000              | 8000000            | Approved      |\n",
      "| 2         | 0                  | Ankara | Not Graduate | Yes             | 4100000        | 12200000      | 8           | 417           | 2.7e+06                    | 2200000                   | 8800000               | 3300000            | Rejected      |\n",
      "| 3         | 3                  | Ankara | Graduate     | No              | 9100000        | 29700000      | 20          | nan           | 7.1e+06                    | 4500000                   | 33300000              | 12800000           | Rejected      |\n",
      "| 4         | 3                  | Ankara | Graduate     | No              | 8200000        | 30700000      | 8           | nan           | 1.82e+07                   | 3300000                   | 23300000              | 7900000            | Rejected      |\n",
      "| 5         | 5                  | Ankara | Not Graduate | Yes             | 9800000        | 24200000      | 20          | nan           | 1.24e+07                   | 8200000                   | 29400000              | 5000000            | Rejected      |\n",
      "2024-08-04 20:25:40,807 - INFO - Data Info:\n",
      "<class 'pandas.core.frame.DataFrame'>\n",
      "RangeIndex: 4269 entries, 0 to 4268\n",
      "Data columns (total 14 columns):\n",
      " #   Column                    Non-Null Count  Dtype  \n",
      "---  ------                    --------------  -----  \n",
      " 0   loan_id                   4269 non-null   int64  \n",
      " 1   no_of_dependents          4269 non-null   int64  \n",
      " 2   City                      4113 non-null   object \n",
      " 3   education                 4184 non-null   object \n",
      " 4   self_employed             4269 non-null   object \n",
      " 5   income_annum              4269 non-null   int64  \n",
      " 6   loan_amount               4269 non-null   int64  \n",
      " 7   loan_term                 4269 non-null   int64  \n",
      " 8   cibil_score               3885 non-null   float64\n",
      " 9   residential_assets_value  4146 non-null   float64\n",
      " 10  commercial_assets_value   4269 non-null   int64  \n",
      " 11  luxury_assets_value       4269 non-null   int64  \n",
      " 12  bank_asset_value          4269 non-null   int64  \n",
      " 13  loan_status               4269 non-null   object \n",
      "dtypes: float64(2), int64(8), object(4)\n",
      "memory usage: 467.0+ KB\n",
      "\n",
      "2024-08-04 20:25:40,813 - INFO - Missing Values (Percentages):\n",
      "|                          | 0       |\n",
      "|:-------------------------|:--------|\n",
      "| loan_id                  | 0       |\n",
      "| no_of_dependents         | 0       |\n",
      "| City                     | 3.65425 |\n",
      "| education                | 1.9911  |\n",
      "| self_employed            | 0       |\n",
      "| income_annum             | 0       |\n",
      "| loan_amount              | 0       |\n",
      "| loan_term                | 0       |\n",
      "| cibil_score              | 8.99508 |\n",
      "| residential_assets_value | 2.88124 |\n",
      "| commercial_assets_value  | 0       |\n",
      "| luxury_assets_value      | 0       |\n",
      "| bank_asset_value         | 0       |\n",
      "| loan_status              | 0       |\n",
      "2024-08-04 20:25:40,842 - INFO - Descriptive Statistics:\n",
      "|       | loan_id   | no_of_dependents   | income_annum   | loan_amount   | loan_term   | cibil_score   | residential_assets_value   | commercial_assets_value   | luxury_assets_value   | bank_asset_value   |\n",
      "|:------|:----------|:-------------------|:---------------|:--------------|:------------|:--------------|:---------------------------|:--------------------------|:----------------------|:-------------------|\n",
      "| count | 4269      | 4269               | 4269           | 4269          | 4269        | 3885          | 4146                       | 4269                      | 4269                  | 4269               |\n",
      "| mean  | 2135      | 2.49871            | 5.05912e+06    | 1.51335e+07   | 10.9004     | 598.539       | 7.49021e+06                | 4.97316e+06               | 1.51263e+07           | 4.97669e+06        |\n",
      "| std   | 1232.5    | 1.69591            | 2.80684e+06    | 9.04336e+06   | 5.70919     | 172.284       | 6.51541e+06                | 4.38897e+06               | 9.10375e+06           | 3.25019e+06        |\n",
      "| min   | 1         | 0                  | 200000         | 300000        | 2           | 300           | -100000                    | 0                         | 300000                | 0                  |\n",
      "| 25%   | 1068      | 1                  | 2.7e+06        | 7.7e+06       | 6           | 451           | 2.2e+06                    | 1.3e+06                   | 7.5e+06               | 2.3e+06            |\n",
      "| 50%   | 2135      | 3                  | 5.1e+06        | 1.45e+07      | 10          | 597           | 5.6e+06                    | 3.7e+06                   | 1.46e+07              | 4.6e+06            |\n",
      "| 75%   | 3202      | 4                  | 7.5e+06        | 2.15e+07      | 16          | 745           | 1.13e+07                   | 7.6e+06                   | 2.17e+07              | 7.1e+06            |\n",
      "| max   | 4269      | 5                  | 9.9e+06        | 3.95e+07      | 20          | 900           | 2.91e+07                   | 1.94e+07                  | 3.92e+07              | 1.47e+07           |\n",
      "2024-08-04 20:25:40,844 - INFO - Loan Status Distribution:\n",
      "|          | loan_status   |\n",
      "|:---------|:--------------|\n",
      "| Approved | 2656          |\n",
      "| Rejected | 1613          |\n",
      "2024-08-04 20:25:40,845 - INFO - Starting preprocessing of data.\n",
      "2024-08-04 20:25:40,852 - INFO - Performing train-test-validation split.\n",
      "2024-08-04 20:25:40,859 - INFO - Train, validation, and test sets created.\n"
     ]
    }
   ],
   "source": [
    "config = Settings()\n",
    "\n",
    "# Load data\n",
    "data_loader = DataLoader(config.data_path)\n",
    "data_loader.load_data()\n",
    "\n",
    "# Preprocess data \n",
    "preprocessor = DataPreprocessor(data_loader.data, config)\n",
    "\n",
    "X_train, X_val, X_test, y_train, y_val, y_test = preprocessor.preprocess()\n"
   ]
  },
  {
   "cell_type": "markdown",
   "metadata": {},
   "source": [
    "- The distribution of loan statuses is unbalanced. The number of rejected applications may be significantly higher than approved ones. This require special considerations during modelling to avoid bias. \n",
    "- ***city***, ***education*** and ***cibil_score*** have missing values, with cibil_score being mostly affected. \n",
    "\n",
    "**Outliers**\n",
    "- ***income_annum:*** Min 200K is significantly lower than the 0.25 perc suggesting potential outliers or errors.\n",
    "- ***residential_asset_value:*** negative asses min value is likely an error/maybe needs correction (-100k).\n",
    "\n",
    "- Incomes and asset values are likely right-skewed with few high values. \n",
    "- ***cibil_score*** appears to be normally distributed, which is good. \n",
    "\n",
    "**Target Distribution**\n",
    "- The dataset is imbalanced. %62 approved, %38 rejected. "
   ]
  },
  {
   "cell_type": "code",
   "execution_count": 3,
   "metadata": {},
   "outputs": [
    {
     "name": "stderr",
     "output_type": "stream",
     "text": [
      "2024-08-04 20:25:48,762 - INFO - Starting training process.\n",
      "2024-08-04 20:25:48,896 - INFO - Training completed. Generating predictions.\n",
      "2024-08-04 20:25:48,900 - INFO - Evaluating model performance.\n",
      "2024-08-04 20:25:48,907 - INFO - Accuracy: 1.0\n",
      "2024-08-04 20:25:48,908 - INFO - F1: 0.9599\n",
      "2024-08-04 20:25:48,908 - INFO - Precision: 0.9611\n",
      "2024-08-04 20:25:48,909 - INFO - Recall: 0.9587\n",
      "2024-08-04 20:25:48,910 - INFO - ROC: 0.9927\n",
      "2024-08-04 20:25:48,928 - INFO - Retrieving feature importances.\n",
      "2024-08-04 20:25:48,933 - INFO - Feature importances retrieved successfully.\n",
      "2024-08-04 20:25:48,934 - INFO - Model training and evaluation completed.\n"
     ]
    },
    {
     "name": "stdout",
     "output_type": "stream",
     "text": [
      "Training until validation scores don't improve for 5 rounds\n",
      "[10]\ttraining's binary_logloss: 0.352429\tvalid_1's binary_logloss: 0.3574\n",
      "[20]\ttraining's binary_logloss: 0.218136\tvalid_1's binary_logloss: 0.235356\n",
      "[30]\ttraining's binary_logloss: 0.142347\tvalid_1's binary_logloss: 0.161496\n",
      "[40]\ttraining's binary_logloss: 0.107587\tvalid_1's binary_logloss: 0.132138\n",
      "[50]\ttraining's binary_logloss: 0.0875315\tvalid_1's binary_logloss: 0.122714\n",
      "[60]\ttraining's binary_logloss: 0.0737803\tvalid_1's binary_logloss: 0.115792\n",
      "[70]\ttraining's binary_logloss: 0.0605585\tvalid_1's binary_logloss: 0.107556\n",
      "Early stopping, best iteration is:\n",
      "[74]\ttraining's binary_logloss: 0.0566203\tvalid_1's binary_logloss: 0.106895\n",
      "\n",
      "\n",
      "\t\t\t Evaluation\n",
      "Accuracy: 1.0\n",
      "F1: 0.9599\n",
      "Precision: 0.9611\n",
      "Recall: 0.9587\n",
      "ROC: 0.9927\n",
      "\t\t\t Classification Report\n",
      "              precision    recall  f1-score   support\n",
      "\n",
      "           0       0.93      0.93      0.93       228\n",
      "           1       0.96      0.96      0.96       412\n",
      "\n",
      "    accuracy                           0.95       640\n",
      "   macro avg       0.94      0.94      0.94       640\n",
      "weighted avg       0.95      0.95      0.95       640\n",
      "\n"
     ]
    }
   ],
   "source": [
    "#train the model\n",
    "lgbm_model = LightGBMModel(params=config.params)\n",
    "model, feature_importances = lgbm_model.train(X_train, y_train, X_val, y_val)\n"
   ]
  },
  {
   "cell_type": "code",
   "execution_count": 4,
   "metadata": {},
   "outputs": [
    {
     "name": "stderr",
     "output_type": "stream",
     "text": [
      "2024-08-04 20:25:49,307 - INFO - Evaluating model performance.\n",
      "2024-08-04 20:25:49,319 - INFO - Accuracy: 1.0\n",
      "2024-08-04 20:25:49,320 - INFO - F1: 0.9599\n",
      "2024-08-04 20:25:49,321 - INFO - Precision: 0.9611\n",
      "2024-08-04 20:25:49,322 - INFO - Recall: 0.9587\n",
      "2024-08-04 20:25:49,323 - INFO - ROC: 0.9929\n",
      "2024-08-04 20:25:49,340 - INFO - Saving the model to ../models/trained_model_2024-08-04.pkl\n",
      "2024-08-04 20:25:49,346 - INFO - Model saved successfully to ../models/trained_model_2024-08-04.pkl\n"
     ]
    },
    {
     "name": "stdout",
     "output_type": "stream",
     "text": [
      "\n",
      "\n",
      "\t\t\t Evaluation\n",
      "Accuracy: 1.0\n",
      "F1: 0.9599\n",
      "Precision: 0.9611\n",
      "Recall: 0.9587\n",
      "ROC: 0.9929\n",
      "\t\t\t Classification Report\n",
      "              precision    recall  f1-score   support\n",
      "\n",
      "           0       0.93      0.93      0.93       228\n",
      "           1       0.96      0.96      0.96       412\n",
      "\n",
      "    accuracy                           0.95       640\n",
      "   macro avg       0.94      0.94      0.94       640\n",
      "weighted avg       0.95      0.95      0.95       640\n",
      "\n",
      "Model saved to ../models/trained_model_2024-08-04.pkl\n"
     ]
    }
   ],
   "source": [
    "# Evaluate the model\n",
    "lgbm_model.evaluate_model(y_val, model.predict(X_val))\n",
    "\n",
    "# Save the trained model\n",
    "today_date = datetime.today().strftime('%Y-%m-%d')\n",
    "model_path = config.model_dir / f\"trained_model_{today_date}.pkl\"\n",
    "lgbm_model.save_model(model_path)\n",
    "\n",
    "print(f\"Model saved to {model_path}\")\n"
   ]
  },
  {
   "cell_type": "code",
   "execution_count": 5,
   "metadata": {},
   "outputs": [
    {
     "data": {
      "text/plain": [
       "<AxesSubplot:title={'center':'Feature Importance (split)'}, ylabel='feature'>"
      ]
     },
     "execution_count": 5,
     "metadata": {},
     "output_type": "execute_result"
    },
    {
     "data": {
      "image/png": "[encoded data removed]",
      "text/plain": [
       "<Figure size 720x432 with 1 Axes>"
      ]
     },
     "metadata": {
      "needs_background": "light"
     },
     "output_type": "display_data"
    }
   ],
   "source": [
    "feature_importances.reset_index().sort_values(\"split\").plot(\n",
    "    kind=\"barh\", x=\"feature\", y=\"split\", title=\"Feature Importance (split)\", figsize=(10, 6)\n",
    ")\n"
   ]
  },
  {
   "cell_type": "code",
   "execution_count": 6,
   "metadata": {},
   "outputs": [
    {
     "data": {
      "text/plain": [
       "<AxesSubplot:title={'center':'Feature Importance (Gain)'}, ylabel='feature'>"
      ]
     },
     "execution_count": 6,
     "metadata": {},
     "output_type": "execute_result"
    },
    {
     "data": {
      "image/png": "[encoded data removed]",
      "text/plain": [
       "<Figure size 720x432 with 1 Axes>"
      ]
     },
     "metadata": {
      "needs_background": "light"
     },
     "output_type": "display_data"
    }
   ],
   "source": [
    "feature_importances.reset_index().sort_values(\"gain\").plot(\n",
    "    kind=\"barh\", x=\"feature\", y=\"gain\", title=\"Feature Importance (Gain)\", figsize=(10, 6)\n",
    ")\n"
   ]
  }
 ],
 "metadata": {
  "kernelspec": {
   "display_name": "base",
   "language": "python",
   "name": "python3"
  },
  "language_info": {
   "codemirror_mode": {
    "name": "ipython",
    "version": 3
   },
   "file_extension": ".py",
   "mimetype": "text/x-python",
   "name": "python",
   "nbconvert_exporter": "python",
   "pygments_lexer": "ipython3",
   "version": "3.9.12"
  }
 },
 "nbformat": 4,
 "nbformat_minor": 2
}
